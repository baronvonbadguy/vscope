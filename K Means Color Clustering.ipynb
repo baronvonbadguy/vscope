{
 "cells": [
  {
   "cell_type": "code",
   "execution_count": 53,
   "metadata": {
    "collapsed": false
   },
   "outputs": [],
   "source": [
    "%matplotlib inline\n",
    "from vscope import Grid, Image, Analyzer"
   ]
  },
  {
   "cell_type": "code",
   "execution_count": 2,
   "metadata": {
    "collapsed": false
   },
   "outputs": [
    {
     "name": "stderr",
     "output_type": "stream",
     "text": []
    }
   ],
   "source": [
    "grid = Grid()"
   ]
  },
  {
   "cell_type": "code",
   "execution_count": 42,
   "metadata": {
    "collapsed": false
   },
   "outputs": [
    {
     "data": {
      "text/plain": [
       "u'http://slowed.vsco.co/media/565ce84448331ed6618b457e'"
      ]
     },
     "execution_count": 42,
     "metadata": {},
     "output_type": "execute_result"
    }
   ],
   "source": [
    "grid.images[11].permalink"
   ]
  },
  {
   "cell_type": "code",
   "execution_count": 54,
   "metadata": {
    "collapsed": false
   },
   "outputs": [
    {
     "name": "stdout",
     "output_type": "stream",
     "text": [
      "1 loops, best of 3: 3.14 s per loop\n"
     ]
    }
   ],
   "source": [
    "%%timeit\n",
    "top_colors = Analyzer.find_primary_colors(grid.images[11], resolve_to_n_colors=8)"
   ]
  },
  {
   "cell_type": "code",
   "execution_count": 52,
   "metadata": {
    "collapsed": false
   },
   "outputs": [
    {
     "data": {
      "text/plain": [
       "['#dbd0c5',\n",
       " '#1a271b',\n",
       " '#374b3c',\n",
       " '#888577',\n",
       " '#3a4f65',\n",
       " '#e0c36e',\n",
       " '#ab2716',\n",
       " '#743b28']"
      ]
     },
     "execution_count": 52,
     "metadata": {},
     "output_type": "execute_result"
    }
   ],
   "source": [
    "top_colors_hex = []\n",
    "for color in top_colors[0]:\n",
    "    convert = lambda c: [str(hex(x))[2:-1].rjust(2, '0') for x in c]\n",
    "    hex_color = '#{}{}{}'.format(*convert(color))\n",
    "    top_colors_hex.append(hex_color)\n",
    "top_colors_hex"
   ]
  },
  {
   "cell_type": "code",
   "execution_count": 50,
   "metadata": {
    "collapsed": false
   },
   "outputs": [
    {
     "data": {
      "image/png": "[encoded data removed]",
      "text/plain": [
       "<matplotlib.figure.Figure at 0x10fddeb50>"
      ]
     },
     "metadata": {},
     "output_type": "display_data"
    }
   ],
   "source": [
    "import matplotlib.pyplot as plt\n",
    "import matplotlib.patches as patches\n",
    "\n",
    "fig6 = plt.figure()\n",
    "ax6 = fig6.add_subplot(111, aspect='equal')\n",
    "patcher = lambda c, i: patches.Rectangle(\n",
    "        (0.03 + (0.06 * i), 0.2), 0.2, 0.6,\n",
    "        facecolor=c      # Default\n",
    "    )\n",
    "patches = [patcher(c, i) for i, c in enumerate(top_colors_hex)]\n",
    "for p in patches:\n",
    "    ax6.add_patch(p)\n",
    "# fig6.savefig('rect6.png', dpi=90, bbox_inches='tight')\n",
    "fig6.savefig('rect6.png', figsize=(20, 16), dpi=360, bbox_inches='tight')"
   ]
  }
 ],
 "metadata": {
  "kernelspec": {
   "display_name": "Python 2",
   "language": "python",
   "name": "python2"
  },
  "language_info": {
   "codemirror_mode": {
    "name": "ipython",
    "version": 2
   },
   "file_extension": ".py",
   "mimetype": "text/x-python",
   "name": "python",
   "nbconvert_exporter": "python",
   "pygments_lexer": "ipython2",
   "version": "2.7.10"
  }
 },
 "nbformat": 4,
 "nbformat_minor": 0
}
